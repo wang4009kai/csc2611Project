{
 "cells": [
  {
   "cell_type": "code",
   "execution_count": 1,
   "metadata": {},
   "outputs": [],
   "source": [
    "from convokit import Corpus, download"
   ]
  },
  {
   "cell_type": "code",
   "execution_count": 2,
   "metadata": {},
   "outputs": [],
   "source": [
    "import pandas as pd\n",
    "import matplotlib.pyplot as plt"
   ]
  },
  {
   "cell_type": "markdown",
   "metadata": {},
   "source": [
    "# 1. Politics"
   ]
  },
  {
   "cell_type": "code",
   "execution_count": 3,
   "metadata": {
    "scrolled": true
   },
   "outputs": [
    {
     "name": "stdout",
     "output_type": "stream",
     "text": [
      "Dataset already exists at /home/kai/.convokit/downloads/subreddit-AmericanPolitics\n",
      "Dataset already exists at /home/kai/.convokit/downloads/subreddit-CanadaPolitics\n",
      "Dataset already exists at /home/kai/.convokit/downloads/subreddit-POLITIC\n"
     ]
    }
   ],
   "source": [
    "corpusap = Corpus(filename=download(\"subreddit-AmericanPolitics\"))\n",
    "corpuscp = Corpus(filename=download(\"subreddit-CanadaPolitics\"))\n",
    "corpusp = Corpus(filename=download(\"subreddit-POLITIC\"))\n",
    "# corpuspd = Corpus(filename=download(\"subreddit-PoliticalDiscussion\"))\n",
    "# corpuspr = Corpus(filename=download(\"subreddit-Political_Revolution\"))\n",
    "# corpuspa = Corpus(filename=download(\"subreddit-PoliticsAll\"))"
   ]
  },
  {
   "cell_type": "code",
   "execution_count": 4,
   "metadata": {},
   "outputs": [
    {
     "name": "stdout",
     "output_type": "stream",
     "text": [
      "Number of Speakers: 5592\n",
      "Number of Utterances: 66169\n",
      "Number of Conversations: 29492\n",
      "None\n",
      "Number of Speakers: 32311\n",
      "Number of Utterances: 1820264\n",
      "Number of Conversations: 85804\n",
      "None\n",
      "Number of Speakers: 37640\n",
      "Number of Utterances: 2462784\n",
      "Number of Conversations: 1613949\n",
      "None\n"
     ]
    }
   ],
   "source": [
    "print(corpusap.print_summary_stats())\n",
    "print(corpuscp.print_summary_stats())\n",
    "print(corpusp.print_summary_stats())"
   ]
  },
  {
   "cell_type": "code",
   "execution_count": 5,
   "metadata": {},
   "outputs": [],
   "source": [
    "df_utt1 = corpusap.get_utterances_dataframe()\n",
    "df_utt2 = corpuscp.get_utterances_dataframe()\n",
    "df_utt3 = corpusp.get_utterances_dataframe()\n",
    "# df_utt4 = corpuspd.get_utterances_dataframe()\n",
    "# df_utt5 = corpuspr.get_utterances_dataframe()\n",
    "# df_utt6 = corpuspa.get_utterances_dataframe()"
   ]
  },
  {
   "cell_type": "code",
   "execution_count": 6,
   "metadata": {},
   "outputs": [],
   "source": [
    "dfList = [df_utt1, df_utt2, df_utt3]\n",
    "df_politics = pd.concat(dfList, ignore_index=True)"
   ]
  },
  {
   "cell_type": "code",
   "execution_count": 7,
   "metadata": {},
   "outputs": [],
   "source": [
    "# remove urls\n",
    "import re\n",
    "df_politics['text'] = df_politics['text'].apply(lambda x: re.sub(r'http\\S+', '', x))"
   ]
  },
  {
   "cell_type": "code",
   "execution_count": 8,
   "metadata": {},
   "outputs": [],
   "source": [
    "# Save joint dataframe to csv\n",
    "df_politics.to_csv(\"r_politics.csv\", index=False)"
   ]
  },
  {
   "cell_type": "markdown",
   "metadata": {},
   "source": [
    "## 1.1 Trump"
   ]
  },
  {
   "cell_type": "code",
   "execution_count": 9,
   "metadata": {},
   "outputs": [],
   "source": [
    "df_trump=df_politics[df_politics['text'].str.contains('Trump', case=False)]\n",
    "df_trump=df_trump.reset_index()"
   ]
  },
  {
   "cell_type": "code",
   "execution_count": 10,
   "metadata": {},
   "outputs": [],
   "source": [
    "df_trump['dateTime'] = pd.to_datetime(df_trump['timestamp'], unit='s')"
   ]
  },
  {
   "cell_type": "code",
   "execution_count": 11,
   "metadata": {},
   "outputs": [],
   "source": [
    "# Save joint dataframe to csv\n",
    "df_trump.to_csv(\"trump.csv\", index=False)"
   ]
  },
  {
   "cell_type": "code",
   "execution_count": 12,
   "metadata": {},
   "outputs": [
    {
     "name": "stdout",
     "output_type": "stream",
     "text": [
      "2018-10-31 23:20:35\n",
      "2010-09-18 16:36:44\n"
     ]
    }
   ],
   "source": [
    "print(df_trump['dateTime'].max())\n",
    "print(df_trump['dateTime'].min())"
   ]
  },
  {
   "cell_type": "code",
   "execution_count": 20,
   "metadata": {},
   "outputs": [
    {
     "data": {
      "text/plain": [
       "<matplotlib.axes._subplots.AxesSubplot at 0x7f589fe349a0>"
      ]
     },
     "execution_count": 20,
     "metadata": {},
     "output_type": "execute_result"
    },
    {
     "data": {
      "image/png": "[encoded data removed]",
      "text/plain": [
       "<Figure size 504x504 with 1 Axes>"
      ]
     },
     "metadata": {
      "needs_background": "light"
     },
     "output_type": "display_data"
    }
   ],
   "source": [
    "trump_time_group = df_trump.groupby(df_trump['dateTime'].dt.year).size()\n",
    "trump_time_group.plot(kind='bar', figsize=(7,7))"
   ]
  },
  {
   "cell_type": "code",
   "execution_count": 17,
   "metadata": {},
   "outputs": [
    {
     "data": {
      "text/plain": [
       "index                     51587\n",
       "timestamp                 51587\n",
       "text                      51587\n",
       "speaker                   51587\n",
       "reply_to                  50498\n",
       "conversation_id           51587\n",
       "meta.score                51587\n",
       "meta.top_level_comment    50498\n",
       "meta.retrieved_on         51587\n",
       "meta.gilded               51587\n",
       "meta.gildings              7873\n",
       "meta.subreddit            51587\n",
       "meta.stickied             51587\n",
       "meta.permalink            51587\n",
       "meta.author_flair_text    51587\n",
       "dateTime                  51587\n",
       "dtype: int64"
      ]
     },
     "execution_count": 17,
     "metadata": {},
     "output_type": "execute_result"
    }
   ],
   "source": [
    "df_trump[df_trump['dateTime'] > '2016'].count()"
   ]
  },
  {
   "cell_type": "code",
   "execution_count": 18,
   "metadata": {},
   "outputs": [
    {
     "data": {
      "text/plain": [
       "index                     2428\n",
       "timestamp                 2428\n",
       "text                      2428\n",
       "speaker                   2428\n",
       "reply_to                  2318\n",
       "conversation_id           2428\n",
       "meta.score                2428\n",
       "meta.top_level_comment    2318\n",
       "meta.retrieved_on         2428\n",
       "meta.gilded               2428\n",
       "meta.gildings                0\n",
       "meta.subreddit            2428\n",
       "meta.stickied             2428\n",
       "meta.permalink            2428\n",
       "meta.author_flair_text    2428\n",
       "dateTime                  2428\n",
       "dtype: int64"
      ]
     },
     "execution_count": 18,
     "metadata": {},
     "output_type": "execute_result"
    }
   ],
   "source": [
    "df_trump[df_trump['dateTime'] <= '2016'].count()"
   ]
  },
  {
   "cell_type": "code",
   "execution_count": 111,
   "metadata": {},
   "outputs": [
    {
     "data": {
      "text/plain": [
       "dateTime\n",
       "2010        1\n",
       "2011        9\n",
       "2012      159\n",
       "2013      285\n",
       "2014      345\n",
       "2015     1629\n",
       "2016    12166\n",
       "2017    14255\n",
       "2018    25166\n",
       "dtype: int64"
      ]
     },
     "execution_count": 111,
     "metadata": {},
     "output_type": "execute_result"
    }
   ],
   "source": [
    "trump_time_group"
   ]
  },
  {
   "cell_type": "code",
   "execution_count": 125,
   "metadata": {},
   "outputs": [
    {
     "data": {
      "text/plain": [
       "'I would like to see how deep this imaginary working man\\'s pockets are, since you will have him pay for private healthcare, private roads, private education, private fire fighting, private policing, private transport. Who the F is this worker, Donald Trump???\\n\\nYou know, the question was IF you HAD a trillion dollars...not if you didn\\'t, which is what you \"have\" now.'"
      ]
     },
     "execution_count": 125,
     "metadata": {},
     "output_type": "execute_result"
    }
   ],
   "source": [
    "df_trump[df_trump['dateTime'].dt.year == 2010]['text'][0]"
   ]
  },
  {
   "cell_type": "code",
   "execution_count": 108,
   "metadata": {},
   "outputs": [
    {
     "name": "stdout",
     "output_type": "stream",
     "text": [
      "donald trump is an robot controlled by an alien that looks like a toupee\n",
      "\n",
      "It is only going to get crazier, but at the same time, there is no way that Trump will end up being the candidate.   \n",
      "\n",
      "I miss Trump already. Oh look Paul might fail by less this year. Palin is gaining ground. I think she might be an easier sell and certainly more entertaining than Romney. \n",
      "\n",
      "&gt;Real estate mogul Donald Trump said Friday he'd consider running for president — again — if the U.S. economy \"continues to be bad: and \"**if the Republicans pick the wrong candidate**.\"\n",
      "\n",
      "Which candidate is the *wrong one*?\n",
      "\n",
      "End software patents and tech will always eventually trump politics. This definitely looks like a case where Myhrvold is making money in order to be a towering asshole to the world instead of the other way around.\n",
      "\n",
      "This [shit]( is why I dislike Ron Paul. As a true libertarian, I find it offensive that government would tell someone what they can or cannot do with their own body. He lets his religion trump his political beliefs. I'd go so far as to say that to be a true libertarian you'd need to be an atheist. \n",
      "\n",
      "&gt;In a paper widely trumpeted and due for release in book form, Akhil Bakshi, the leader of a recent major scientific expedition supported by India’s prime minister, claims that “Negroid”, “Caucasian” and “Mongoloid” peoples are not only separate races but separate species, having evolved on different continents\n",
      "\n",
      "\n",
      "\n",
      "\n",
      "\n",
      "There is no indication of what you assert that I see in the video.  The claimed intention of the group being to close accounts, making them being there on business, and there is no shouting, etc on tape that would indicate disturbing the peace, just a bunch of people standing around like one typically does waiting for a teller.  If people were there to close their accounts and were instead told to leave, then Citibank was refusing to let them close their accounts to get their money, at which point the claim they were just there trespassing to protest is like the typical police trumped up charge ala \"the person was hitting my fist with their face,\" which would mean they were arrested for attempting to close their accounts.  \n",
      "\n",
      "Trump calls Paul a Joke?  Hahaha!\n",
      "\n"
     ]
    }
   ],
   "source": [
    "for x in df_trump[df_trump['dateTime'].dt.year == 2011]['text']:\n",
    "    print(x + '\\n')"
   ]
  },
  {
   "cell_type": "code",
   "execution_count": 130,
   "metadata": {},
   "outputs": [
    {
     "name": "stdout",
     "output_type": "stream",
     "text": [
      "&gt; The investigation can’t continue for over two years without any charges right? \n",
      "\n",
      "Well, the Democrats seem to have learned something from the never-ending Republican investigations of Clinton's scandals. :(\n",
      "\n",
      "The other issue is the topic of cui bono -- who is benefiting from the Russia investigation?\n",
      "\n",
      "One group that is clearly benefiting is the mass media. The Russia-gate story is dirt cheap and easy to report (you don't even have to leave Washington DC!), and controversy generates ratings. As the CBS CEO said about giving unequal amounts of coverage of Donald Trump in the Republican primary elections, \"It may not be good for America, but it's damn good for CBS.\"\n",
      "\n",
      "There is a debate among US geo-strategists about what \"enemy\" country the US should take out first -- Russia or China.\n",
      "\n",
      "Trump favors friendly relations with Russia and focusing first on China. Hillary Clinton favored securing Europe and focusing on Russia first, leaving China for later.\n",
      "\n",
      "I would argue there are many in the US gov't who are worried that the American people are not showing enough zeal and enthusiasm for the endless wars that the US gov't is waging.\n",
      "\n",
      "By renewing the Cold War with Russia the US falls back on something we know. We have had decades of indoctrination to think Russia is evil, and that Cold War mindset is easily revived with millions remembering the Cold War with some warped nostalgia.\n",
      "\n",
      "For neo-cons wanting to wage even more wars, having the American people be bombarded with messages that we are being \"attacked\" by Russia is just what war-mongers need.\n",
      "\n"
     ]
    }
   ],
   "source": [
    "print(df_trump[df_trump['dateTime'].dt.year == 2018]['text'][1738] + '\\n')"
   ]
  },
  {
   "cell_type": "markdown",
   "metadata": {},
   "source": [
    "## Brexit"
   ]
  },
  {
   "cell_type": "code",
   "execution_count": 21,
   "metadata": {},
   "outputs": [
    {
     "data": {
      "text/plain": [
       "<matplotlib.axes._subplots.AxesSubplot at 0x7f589d214e50>"
      ]
     },
     "execution_count": 21,
     "metadata": {},
     "output_type": "execute_result"
    },
    {
     "data": {
      "image/png": "[encoded data removed]",
      "text/plain": [
       "<Figure size 504x504 with 1 Axes>"
      ]
     },
     "metadata": {
      "needs_background": "light"
     },
     "output_type": "display_data"
    }
   ],
   "source": [
    "df_brexit=df_politics[df_politics['text'].str.contains('brexit', case=False)]\n",
    "df_brexit=df_brexit.reset_index()\n",
    "df_brexit['dateTime'] = pd.to_datetime(df_brexit['timestamp'], unit='s')\n",
    "# Save joint dataframe to csv\n",
    "df_brexit.to_csv(\"brexit.csv\", index=False)\n",
    "brexit_time_group = df_brexit.groupby(df_brexit['dateTime'].dt.year).size()\n",
    "brexit_time_group.plot(kind='bar', figsize=(7,7))"
   ]
  },
  {
   "cell_type": "code",
   "execution_count": 112,
   "metadata": {},
   "outputs": [
    {
     "data": {
      "text/plain": [
       "dateTime\n",
       "2014      5\n",
       "2015      7\n",
       "2016    663\n",
       "2017    399\n",
       "2018    381\n",
       "dtype: int64"
      ]
     },
     "execution_count": 112,
     "metadata": {},
     "output_type": "execute_result"
    }
   ],
   "source": [
    "brexit_time_group"
   ]
  },
  {
   "cell_type": "code",
   "execution_count": 22,
   "metadata": {},
   "outputs": [
    {
     "name": "stdout",
     "output_type": "stream",
     "text": [
      "2018-10-31 14:54:50\n",
      "2014-01-21 16:42:19\n"
     ]
    }
   ],
   "source": [
    "print(df_brexit['dateTime'].max())\n",
    "print(df_brexit['dateTime'].min())"
   ]
  },
  {
   "cell_type": "code",
   "execution_count": 144,
   "metadata": {},
   "outputs": [
    {
     "data": {
      "text/plain": [
       "3       Here are some other articles about this story:...\n",
       "4       Also available on iTunes: [\\n\\n\\_\\_\\_\\n\\nBLURB...\n",
       "5       Here are some other articles about this story:...\n",
       "20      The CPC just sent out an email announcing the ...\n",
       "993     They got Brexit but they didnt win power. Brex...\n",
       "                              ...                        \n",
       "1450    You have no idea. Its shit, motivations, and s...\n",
       "1451    Man, I clearly struck a nerve when I called yo...\n",
       "1452    I am sure the bighouse with the rest of the co...\n",
       "1453    It's an alien concept to aliens because we sho...\n",
       "1454    Actually you just confirmed I was correct. ty!...\n",
       "Name: text, Length: 381, dtype: object"
      ]
     },
     "execution_count": 144,
     "metadata": {},
     "output_type": "execute_result"
    }
   ],
   "source": [
    "df_brexit[df_brexit['dateTime'].dt.year == 2018]['text']"
   ]
  },
  {
   "cell_type": "code",
   "execution_count": 147,
   "metadata": {},
   "outputs": [
    {
     "data": {
      "text/plain": [
       "\"The CPC just sent out an email announcing the first speaker for the CPC convention in Halifax: Daniel Hannan, [the brains behind Brexit]( An interesting choice. They're not backing away from [Scheer's support for Brexit](\""
      ]
     },
     "execution_count": 147,
     "metadata": {},
     "output_type": "execute_result"
    }
   ],
   "source": [
    "df_brexit[df_brexit['dateTime'].dt.year == 2018]['text'][20]"
   ]
  },
  {
   "cell_type": "markdown",
   "metadata": {},
   "source": [
    "# Start prediction"
   ]
  },
  {
   "cell_type": "code",
   "execution_count": 40,
   "metadata": {},
   "outputs": [],
   "source": [
    "import pandas as pd\n",
    "\n",
    "df_trump = pd.read_csv('trump.csv')\n",
    "df_brexit = pd.read_csv('brexit.csv')"
   ]
  },
  {
   "cell_type": "code",
   "execution_count": 37,
   "metadata": {},
   "outputs": [
    {
     "name": "stdout",
     "output_type": "stream",
     "text": [
      "    word       emotion  positive\n",
      "0  aback         anger         0\n",
      "1  aback  anticipation         0\n",
      "2  aback       disgust         0\n",
      "3  aback          fear         0\n",
      "4  aback           joy         0\n",
      "425460\n"
     ]
    }
   ],
   "source": [
    "# load NRC-Emotion_lexicon_worlevel\n",
    "df_emotion = pd.read_csv('NRC-Emotion-Lexicon-Wordlevel-v0.92.txt', names=['word', 'emotion', 'positive'], delimiter='\\t')\n",
    "print(df_emotion.head())\n",
    "print(df_emotion.size)"
   ]
  },
  {
   "cell_type": "code",
   "execution_count": 79,
   "metadata": {},
   "outputs": [],
   "source": [
    "import spacy\n",
    "from spacy.lang.en.stop_words import STOP_WORDS\n",
    "\n",
    "nlp = spacy.load(\"en_core_web_sm\", disable=['parser', 'tagger', 'ner'])\n",
    "nlp.add_pipe(nlp.create_pipe('sentencizer'))"
   ]
  },
  {
   "cell_type": "code",
   "execution_count": 91,
   "metadata": {},
   "outputs": [],
   "source": [
    " def normalize(doc):\n",
    "    doc = doc.lower()\n",
    "    nlpedDoc = nlp(doc)\n",
    "    \n",
    "    sentences = [sent.string.strip() for sent in nlpedDoc.sents]\n",
    "    final_sents = []\n",
    "    for sent in sentences:\n",
    "        tokens = []\n",
    "        sent = nlp(sent)\n",
    "        for token in sent:\n",
    "            if (not token.is_stop) & (not token.is_punct) & (token.lemma_.strip() != ''):\n",
    "                tokens.append(token.lemma_.strip())\n",
    "        final_sents.append(' '.join(tokens))\n",
    "    return final_sents"
   ]
  },
  {
   "cell_type": "code",
   "execution_count": null,
   "metadata": {},
   "outputs": [],
   "source": []
  },
  {
   "cell_type": "code",
   "execution_count": 93,
   "metadata": {},
   "outputs": [],
   "source": [
    "df_brexit['Text_After_Clean'] = df_brexit['text'].apply(normalize)\n",
    "df_trump['Text_After_Clean'] = df_trump['text'].apply(normalize)"
   ]
  },
  {
   "cell_type": "code",
   "execution_count": 94,
   "metadata": {},
   "outputs": [],
   "source": [
    "df_trump.to_csv(\"trump.csv\", index=False)\n",
    "df_brexit.to_csv(\"brexit.csv\", index=False)"
   ]
  },
  {
   "cell_type": "code",
   "execution_count": 65,
   "metadata": {},
   "outputs": [],
   "source": [
    "def locateWord(sentence, df_emotion):\n",
    "    emotions = []\n",
    "    for word in sentence:\n",
    "        if word in df_emotion['word']:\n",
    "            print('here')\n",
    "            print(word)\n",
    "            emotions.append(df_emotion['emotion'])\n",
    "    return emotions"
   ]
  },
  {
   "cell_type": "code",
   "execution_count": 68,
   "metadata": {},
   "outputs": [],
   "source": [
    "df_brexit['emotions'] = df_brexit['Text_After_Clean'].apply(lambda x: locateWord(x, df_emotion))\n",
    "df_trump['emotions'] = df_trump['Text_After_Clean'].apply(lambda x: locateWord(x, df_emotion))"
   ]
  },
  {
   "cell_type": "code",
   "execution_count": 7,
   "metadata": {},
   "outputs": [
    {
     "data": {
      "text/plain": [
       "14182"
      ]
     },
     "execution_count": 7,
     "metadata": {},
     "output_type": "execute_result"
    }
   ],
   "source": [
    "len(df_emotion['word'].unique())"
   ]
  },
  {
   "cell_type": "code",
   "execution_count": null,
   "metadata": {},
   "outputs": [],
   "source": []
  }
 ],
 "metadata": {
  "kernelspec": {
   "display_name": "Python 3",
   "language": "python",
   "name": "python3"
  },
  "language_info": {
   "codemirror_mode": {
    "name": "ipython",
    "version": 3
   },
   "file_extension": ".py",
   "mimetype": "text/x-python",
   "name": "python",
   "nbconvert_exporter": "python",
   "pygments_lexer": "ipython3",
   "version": "3.8.3"
  }
 },
 "nbformat": 4,
 "nbformat_minor": 4
}
